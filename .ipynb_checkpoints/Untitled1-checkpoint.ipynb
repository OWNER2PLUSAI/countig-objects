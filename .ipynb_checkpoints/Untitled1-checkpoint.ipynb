{
 "cells": [
  {
   "cell_type": "code",
   "execution_count": 31,
   "id": "4a6131f9",
   "metadata": {},
   "outputs": [],
   "source": [
    "# Import required packages:\n",
    "import cv2\n",
    "import numpy as np\n",
    "\n",
    "# Load images\n",
    "image_1 = cv2.imread('1 (4).jpg')\n",
    "image_2 = image_1.copy()\n",
    "\n",
    "# Eliminate blue and read channels:\n",
    "image_2[:, :, 0] = 0\n",
    "image_2[:, :, 2] = 0\n",
    "\n",
    "# Stack horizontally:\n",
    "# Equivalent to np.concatenate(tup, axis=1)\n",
    "# images_1_2_h = np.concatenate((image_1, image_2), axis=1)\n",
    "images_1_2_h = np.hstack((image_1, image_2))\n",
    "\n",
    "# Stack vertically:\n",
    "# Equivalent to np.concatenate(tup, axis=0)\n",
    "# images_1_2_v = np.concatenate((image_1, image_2), axis = 0)\n",
    "images_1_2_v = np.vstack((image_1, image_2))\n",
    "\n",
    "# Show images:\n",
    "cv2.imshow(\"images_1_2_h\", images_1_2_h)\n",
    "# cv2.imshow(\"images_1_2_v\", images_1_2_v)\n",
    "\n",
    "# Wait until a key is pressed:\n",
    "cv2.waitKey(0)\n",
    "\n",
    "# Destroy all created windows:\n",
    "cv2.destroyAllWindows()"
   ]
  }
 ],
 "metadata": {
  "kernelspec": {
   "display_name": "Python 3 (ipykernel)",
   "language": "python",
   "name": "python3"
  },
  "language_info": {
   "codemirror_mode": {
    "name": "ipython",
    "version": 3
   },
   "file_extension": ".py",
   "mimetype": "text/x-python",
   "name": "python",
   "nbconvert_exporter": "python",
   "pygments_lexer": "ipython3",
   "version": "3.10.1"
  },
  "toc": {
   "base_numbering": 1,
   "nav_menu": {},
   "number_sections": true,
   "sideBar": true,
   "skip_h1_title": false,
   "title_cell": "Table of Contents",
   "title_sidebar": "Contents",
   "toc_cell": false,
   "toc_position": {},
   "toc_section_display": true,
   "toc_window_display": false
  },
  "vp": {
   "vp_config_version": "1.0.0",
   "vp_menu_width": 273,
   "vp_note_display": false,
   "vp_note_width": 0,
   "vp_position": {
    "width": 278
   },
   "vp_section_display": false,
   "vp_signature": "VisualPython"
  }
 },
 "nbformat": 4,
 "nbformat_minor": 5
}
